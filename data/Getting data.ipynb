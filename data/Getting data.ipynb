{
 "cells": [
  {
   "cell_type": "code",
   "execution_count": 11,
   "metadata": {},
   "outputs": [],
   "source": [
    "import pandas as pd"
   ]
  },
  {
   "cell_type": "code",
   "execution_count": 12,
   "metadata": {},
   "outputs": [],
   "source": [
    "url1=\"https://raw.githubusercontent.com/HuongIvyNguyen/udacity-data-science/master/project6/data/flight_performance.csv\"\n",
    "#def read(url)\n",
    "\n",
    "df1=pd.read_csv(url1)\n",
    "df1.to_csv(\"flight_performance.csv\", sep='\\t')\n"
   ]
  },
  {
   "cell_type": "code",
   "execution_count": 13,
   "metadata": {},
   "outputs": [],
   "source": [
    "url2=\"https://raw.githubusercontent.com/HuongIvyNguyen/udacity-data-science/master/project6/data/top_five_delay.csv\"\n",
    "df2=pd.read_csv(url2)\n",
    "df2.to_csv(\"top_five_delay.csv\", sep='\\t')"
   ]
  },
  {
   "cell_type": "code",
   "execution_count": 14,
   "metadata": {},
   "outputs": [],
   "source": [
    "url3=\"https://raw.githubusercontent.com/HuongIvyNguyen/udacity-data-science/master/project6/data/top_five_on_time.csv\"\n",
    "df3=pd.read_csv(url3)\n",
    "df3.to_csv(\"top_five_on_time.csv\", sep='\\t')\n"
   ]
  },
  {
   "cell_type": "code",
   "execution_count": 15,
   "metadata": {},
   "outputs": [],
   "source": [
    "url4=\"https://raw.githubusercontent.com/HuongIvyNguyen/udacity-data-science/master/project6/data/most_common_delay_cause.csv\"\n",
    "df4=pd.read_csv(url4)\n",
    "df4.to_csv(\"most_common_delay_cause.csv\", sep='\\t')"
   ]
  }
 ],
 "metadata": {
  "kernelspec": {
   "display_name": "Python 3",
   "language": "python",
   "name": "python3"
  },
  "language_info": {
   "codemirror_mode": {
    "name": "ipython",
    "version": 3
   },
   "file_extension": ".py",
   "mimetype": "text/x-python",
   "name": "python",
   "nbconvert_exporter": "python",
   "pygments_lexer": "ipython3",
   "version": "3.6.6"
  }
 },
 "nbformat": 4,
 "nbformat_minor": 2
}
